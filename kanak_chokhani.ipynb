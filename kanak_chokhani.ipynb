{
  "nbformat": 4,
  "nbformat_minor": 0,
  "metadata": {
    "colab": {
      "private_outputs": true,
      "provenance": [],
      "collapsed_sections": [
        "UV0SzAkaZNRQ",
        "YPEH6qLeZNRQ"
      ],
      "include_colab_link": true
    },
    "kernelspec": {
      "name": "python3",
      "display_name": "Python 3"
    },
    "language_info": {
      "name": "python"
    },
    "gpuClass": "standard"
  },
  "cells": [
    {
      "cell_type": "markdown",
      "metadata": {
        "id": "view-in-github",
        "colab_type": "text"
      },
      "source": [
        "<a href=\"https://colab.research.google.com/github/kanak85/kanak-chokhani/blob/main/kanak_chokhani.ipynb\" target=\"_parent\"><img src=\"https://colab.research.google.com/assets/colab-badge.svg\" alt=\"Open In Colab\"/></a>"
      ]
    },
    {
      "cell_type": "markdown",
      "source": [
        "# **Project Name**    - **Exploratory Data Analysis of Google Play Store App Reviews**\n"
      ],
      "metadata": {
        "id": "vncDsAP0Gaoa"
      }
    },
    {
      "cell_type": "markdown",
      "source": [
        "#   **Name-** Kanak Chokhani"
      ],
      "metadata": {
        "id": "beRrZCGUAJYm"
      }
    },
    {
      "cell_type": "markdown",
      "source": [
        "# **Project Summary -**"
      ],
      "metadata": {
        "id": "FJNUwmbgGyua"
      }
    },
    {
      "cell_type": "markdown",
      "source": [
        "Exploratory Data Analysis (EDA) is a crucial step in any data analysis or data science project. The aim of EDA is to understand the data better, uncover patterns and anomalies, and develop hypotheses based on the data. The EDA process involves several steps: defining the problem statement, generating hypotheses, conducting univariate, bivariate, and multivariate analyses, cleaning the data, and testing hypotheses. The purpose of EDA is to summarize the main characteristics of the data and make it more attractive and appealing through data visualization methods.\n",
        "\n",
        "The Google Play Store is a platform for mobile apps. With the ease of app creation and potential profitability, a large number of apps are being developed and made available on the platform. This analysis aims to provide a comprehensive understanding of the Android app market by examining the characteristics of over 10,000 apps in various categories. The insights gained from the data analysis will be used to identify opportunities for growth and improvement of the app market."
      ],
      "metadata": {
        "id": "F6v_1wHtG2nS"
      }
    },
    {
      "cell_type": "markdown",
      "source": [
        "# **GitHub Link -**"
      ],
      "metadata": {
        "id": "w6K7xa23Elo4"
      }
    },
    {
      "cell_type": "markdown",
      "source": [
        "Provide your GitHub Link here."
      ],
      "metadata": {
        "id": "h1o69JH3Eqqn"
      }
    },
    {
      "cell_type": "markdown",
      "source": [
        "# **Problem Statement**\n"
      ],
      "metadata": {
        "id": "yQaldy8SH6Dl"
      }
    },
    {
      "cell_type": "markdown",
      "source": [
        "Two datasets are provided one with basic information and other with user reviews for the respective app\n",
        "We must examine and evaluate the data in both datasets in order to identify the important characteristic that influence app engagement and sucess"
      ],
      "metadata": {
        "id": "FfCNilOLMcYJ"
      }
    },
    {
      "cell_type": "markdown",
      "source": [
        "# **Business Objective** : -"
      ],
      "metadata": {
        "id": "QSV-Giba9hJG"
      }
    },
    {
      "cell_type": "markdown",
      "source": [
        "The business objective in this case is to analyze the Google Play Store app data to uncover key factors that drive app engagement and success. By analyzing the data, the goal is to draw actionable insights for developers to capture the Android market and grow their app-making businesses. The objective is to answer questions such as: what are the top categories on the Play Store, what percentage of apps are paid or free, how important is the rating of the app, what category the app should be based on, which category has the most installations, how the last update affects the rating, how the ratings are affected when the app is paid, and how the ratings and reviews are related."
      ],
      "metadata": {
        "id": "PhDvGCAqmjP1"
      }
    },
    {
      "cell_type": "markdown",
      "source": [
        "# ***Let's Begin !***"
      ],
      "metadata": {
        "id": "O_i_v8NEhb9l"
      }
    },
    {
      "cell_type": "markdown",
      "source": [
        "## ***1. Know Your Data***"
      ],
      "metadata": {
        "id": "HhfV-JJviCcP"
      }
    },
    {
      "cell_type": "markdown",
      "source": [
        "Let's take a look at the data, which consists of two files:\n",
        "\n",
        "playstore data.csv: contains all the details of the applications on Google Play. There are 13 features that describe a given app.\n",
        "user_reviews.csv: contains 100 reviews for each app, most helpful first. The text in each review has been pre-processed and attributed with three new features: Sentiment (Positive, Negative or Neutral), Sentiment Polarity and Sentiment Subjectivity."
      ],
      "metadata": {
        "id": "06z-z-YJPiTx"
      }
    },
    {
      "cell_type": "markdown",
      "source": [
        "### Import Libraries"
      ],
      "metadata": {
        "id": "Y3lxredqlCYt"
      }
    },
    {
      "cell_type": "code",
      "source": [
        "# Import Libraries\n",
        "import numpy as np\n",
        "import pandas as pd\n",
        "import matplotlib.pyplot as plt\n",
        "import seaborn as  sns\n",
        "%matplotlib inline"
      ],
      "metadata": {
        "id": "M8Vqi-pPk-HR"
      },
      "execution_count": null,
      "outputs": []
    },
    {
      "cell_type": "code",
      "source": [
        "from google.colab import drive\n",
        "drive.mount('/content/drive')"
      ],
      "metadata": {
        "id": "GYQY_HJzOpDG"
      },
      "execution_count": null,
      "outputs": []
    },
    {
      "cell_type": "markdown",
      "source": [
        "### Dataset Loading"
      ],
      "metadata": {
        "id": "3RnN4peoiCZX"
      }
    },
    {
      "cell_type": "code",
      "source": [
        "# Load Dataset\n",
        "df_app = pd.read_csv(\"/content/drive/MyDrive/Play Store Data.csv\")\n",
        "df_reviews = pd.read_csv(\"/content/drive/MyDrive/User Reviews.csv\")"
      ],
      "metadata": {
        "id": "4CkvbW_SlZ_R"
      },
      "execution_count": null,
      "outputs": []
    },
    {
      "cell_type": "markdown",
      "source": [
        "### Dataset First View"
      ],
      "metadata": {
        "id": "x71ZqKXriCWQ"
      }
    },
    {
      "cell_type": "code",
      "source": [
        "# Dataset First Look\n",
        "df_app.head()"
      ],
      "metadata": {
        "id": "LWNFOSvLl09H"
      },
      "execution_count": null,
      "outputs": []
    },
    {
      "cell_type": "code",
      "source": [
        "df_reviews.head()"
      ],
      "metadata": {
        "id": "E1OYv3KJdotP"
      },
      "execution_count": null,
      "outputs": []
    },
    {
      "cell_type": "markdown",
      "source": [
        "### Dataset Rows & Columns count"
      ],
      "metadata": {
        "id": "7hBIi_osiCS2"
      }
    },
    {
      "cell_type": "code",
      "source": [
        "# Dataset Rows & Columns count\n",
        "df_app.shape"
      ],
      "metadata": {
        "id": "Kllu7SJgmLij"
      },
      "execution_count": null,
      "outputs": []
    },
    {
      "cell_type": "markdown",
      "source": [
        "In App dataset we have 10841 rows and 13 columns"
      ],
      "metadata": {
        "id": "s6ylPQ-_eHZP"
      }
    },
    {
      "cell_type": "code",
      "source": [
        "df_reviews.shape"
      ],
      "metadata": {
        "id": "wdzKIZ11d_wn"
      },
      "execution_count": null,
      "outputs": []
    },
    {
      "cell_type": "code",
      "source": [
        "from google.colab import drive\n",
        "drive.mount('/content/drive')"
      ],
      "metadata": {
        "id": "B5OtNOjBHqVU"
      },
      "execution_count": null,
      "outputs": []
    },
    {
      "cell_type": "markdown",
      "source": [
        "In reviews dataset we have 64295 rows and 5 columns"
      ],
      "metadata": {
        "id": "6dn8_aTDePh4"
      }
    },
    {
      "cell_type": "markdown",
      "source": [
        "### Dataset Information"
      ],
      "metadata": {
        "id": "JlHwYmJAmNHm"
      }
    },
    {
      "cell_type": "code",
      "source": [
        "# Dataset Info\n",
        "df_app.info()"
      ],
      "metadata": {
        "id": "e9hRXRi6meOf"
      },
      "execution_count": null,
      "outputs": []
    },
    {
      "cell_type": "code",
      "source": [
        "df_reviews.info()"
      ],
      "metadata": {
        "id": "wdk3TSNRedl_"
      },
      "execution_count": null,
      "outputs": []
    },
    {
      "cell_type": "markdown",
      "source": [
        "#### Duplicate Values"
      ],
      "metadata": {
        "id": "35m5QtbWiB9F"
      }
    },
    {
      "cell_type": "code",
      "source": [
        "# Dataset Duplicate Value Count\n",
        "df_app.duplicated().sum()"
      ],
      "metadata": {
        "id": "1sLdpKYkmox0"
      },
      "execution_count": null,
      "outputs": []
    },
    {
      "cell_type": "markdown",
      "source": [
        "We have found 483 duplicates values in app data. For the accuracy purpose we have to remove these duplicates values from dataset. Otherwise it will hamper our analysis and prediction!"
      ],
      "metadata": {
        "id": "zbn3bClIe7cH"
      }
    },
    {
      "cell_type": "code",
      "source": [
        "df_reviews.duplicated().sum()"
      ],
      "metadata": {
        "id": "FOv3m4VBfXxe"
      },
      "execution_count": null,
      "outputs": []
    },
    {
      "cell_type": "markdown",
      "source": [
        "#### Missing Values/Null Values"
      ],
      "metadata": {
        "id": "PoPl-ycgm1ru"
      }
    },
    {
      "cell_type": "code",
      "source": [
        "# Missing Values/Null Values Count\n",
        "df_app.isnull().sum()"
      ],
      "metadata": {
        "id": "GgHWkxvamxVg"
      },
      "execution_count": null,
      "outputs": []
    },
    {
      "cell_type": "markdown",
      "source": [
        "**Null value overview of app data:**\n",
        "\n",
        "\n",
        "1.   Rating column have 1474 null values\n",
        "2.   Content Rating column have 1 null value\n",
        "3.   Current Ver column have 8 null values\n",
        "4.   Type column have 1 null value\n",
        "5.   Android Ver column have 3 null values\n"
      ],
      "metadata": {
        "id": "LKGwgBdGfwmc"
      }
    },
    {
      "cell_type": "code",
      "source": [
        "df_reviews.isnull().sum()"
      ],
      "metadata": {
        "id": "YB0EouWMg0-9"
      },
      "execution_count": null,
      "outputs": []
    },
    {
      "cell_type": "markdown",
      "source": [
        "**Null value overview of reviews dataset:**\n",
        "\n",
        "\n",
        "1.   Translated_Review column have 26868 null values.\n",
        "2.   Sentiment, Sentiment_Polarity, Sentiment_Subjectivity columns have equal nos of null values which is 26863.\n",
        "\n",
        "\n"
      ],
      "metadata": {
        "id": "nQb-JYMKhCJM"
      }
    },
    {
      "cell_type": "code",
      "source": [
        "# Visualizing the missing values\n",
        "sns.displot(\n",
        "    data=df_app.isna().melt(value_name=\"missing\"),\n",
        "    y=\"variable\",\n",
        "    hue=\"missing\",\n",
        "    multiple=\"fill\",\n",
        "    aspect=2\n",
        ")"
      ],
      "metadata": {
        "id": "3q5wnI3om9sJ"
      },
      "execution_count": null,
      "outputs": []
    },
    {
      "cell_type": "markdown",
      "source": [
        "### What did you know about your dataset?\n",
        "\n",
        "In the described dataset, the column with the most missing values is the Rating column, which has 1474 missing values. There are also a few missing values in other columns, such as the Content Rating, Current Ver, Type, and Android Ver columns."
      ],
      "metadata": {
        "id": "H0kj-8xxnORC"
      }
    },
    {
      "cell_type": "markdown",
      "source": [
        "## ***2. Understanding Your Variables***"
      ],
      "metadata": {
        "id": "nA9Y7ga8ng1Z"
      }
    },
    {
      "cell_type": "code",
      "source": [
        "# Dataset Columns\n",
        "df_app.columns"
      ],
      "metadata": {
        "id": "j7xfkqrt5Ag5"
      },
      "execution_count": null,
      "outputs": []
    },
    {
      "cell_type": "code",
      "source": [
        "df_reviews.columns"
      ],
      "metadata": {
        "id": "KSHYEo8xidWf"
      },
      "execution_count": null,
      "outputs": []
    },
    {
      "cell_type": "code",
      "source": [
        "# Dataset Describe\n",
        "df_app.describe()"
      ],
      "metadata": {
        "id": "DnOaZdaE5Q5t"
      },
      "execution_count": null,
      "outputs": []
    },
    {
      "cell_type": "markdown",
      "source": [
        "**From the above table we can evaluate the basic calculations of the Rating column. But wait a minutes but we don't have Reviews, Size, Installs and Price columns in this table. So they must have inapporopiate data, we can fix their data types in data cleaning section!**"
      ],
      "metadata": {
        "id": "WwRr22Koiuk9"
      }
    },
    {
      "cell_type": "code",
      "source": [
        "df_reviews.describe()"
      ],
      "metadata": {
        "id": "acrnhiOKj6UX"
      },
      "execution_count": null,
      "outputs": []
    },
    {
      "cell_type": "markdown",
      "source": [
        "### Variables Description"
      ],
      "metadata": {
        "id": "PBTbrJXOngz2"
      }
    },
    {
      "cell_type": "markdown",
      "source": [
        "1. App - It tells us about the name of the application.\n",
        "2. Category - It tells us about the category to which an application belongs.\n",
        "3. Rating- It tells us about the ratings given by the users for a specific application.\n",
        "4. Reviews - It tells us about the total number of users who have given a review for the application.\n",
        "5. Size- It tells us about the size being occupied the application on the mobile phone.\n",
        "6. Installs - It tells us about the total number of installs/downloads for an application.\n",
        "7. Type - It tells us whether the application is free or a paid one.\n",
        "8. Price- It tells us about the price of the application.\n",
        "9. Content_Rating- It tells us about the target audience for the application.\n",
        "10. Genres - It tells us about the various other categories to which an application can belong.\n",
        "11. Last_Updated - It tells us about the when the application was updated.\n",
        "12. Current_Ver - It tells us about the current version of the application.\n",
        "13. Android_Ver - It tells us about the android version which can support the application on its platform."
      ],
      "metadata": {
        "id": "aJV4KIxSnxay"
      }
    },
    {
      "cell_type": "markdown",
      "source": [
        "### Check Unique Values for each variable."
      ],
      "metadata": {
        "id": "u3PMJOP6ngxN"
      }
    },
    {
      "cell_type": "code",
      "source": [
        "# Check Unique Values for each variable.\n",
        "df_app.columns"
      ],
      "metadata": {
        "id": "zms12Yq5n-jE"
      },
      "execution_count": null,
      "outputs": []
    },
    {
      "cell_type": "code",
      "source": [
        "df_app['App'].unique()"
      ],
      "metadata": {
        "id": "YjcknqTdxJ2o"
      },
      "execution_count": null,
      "outputs": []
    },
    {
      "cell_type": "code",
      "source": [
        "df_app['Category'].unique()"
      ],
      "metadata": {
        "id": "ffxhcZwixOF1"
      },
      "execution_count": null,
      "outputs": []
    },
    {
      "cell_type": "code",
      "source": [
        "df_app['Rating'].unique()"
      ],
      "metadata": {
        "id": "iw4ekmbxyWhU"
      },
      "execution_count": null,
      "outputs": []
    },
    {
      "cell_type": "code",
      "source": [
        "df_app['Reviews'].unique()"
      ],
      "metadata": {
        "id": "WpBuB8Q_yea2"
      },
      "execution_count": null,
      "outputs": []
    },
    {
      "cell_type": "code",
      "source": [
        "df_app['Size'].unique()"
      ],
      "metadata": {
        "id": "Vez-pg8uyl8z"
      },
      "execution_count": null,
      "outputs": []
    },
    {
      "cell_type": "code",
      "source": [
        "df_app['Installs'].unique()"
      ],
      "metadata": {
        "id": "9RBQAMkXystv"
      },
      "execution_count": null,
      "outputs": []
    },
    {
      "cell_type": "code",
      "source": [
        "df_app['Type'].unique()"
      ],
      "metadata": {
        "id": "J1QXOZiLy1ZG"
      },
      "execution_count": null,
      "outputs": []
    },
    {
      "cell_type": "code",
      "source": [
        "df_app['Price'].unique()"
      ],
      "metadata": {
        "id": "PQptQgm3y7VP"
      },
      "execution_count": null,
      "outputs": []
    },
    {
      "cell_type": "code",
      "source": [
        "df_app['Content Rating'].unique()"
      ],
      "metadata": {
        "id": "KttN0ivYy7g2"
      },
      "execution_count": null,
      "outputs": []
    },
    {
      "cell_type": "code",
      "source": [
        "df_app['Genres'].unique()"
      ],
      "metadata": {
        "id": "QI7PW6hcy7wt"
      },
      "execution_count": null,
      "outputs": []
    },
    {
      "cell_type": "code",
      "source": [
        "df_app['Last Updated'].unique()"
      ],
      "metadata": {
        "id": "byj-JGD0zG75"
      },
      "execution_count": null,
      "outputs": []
    },
    {
      "cell_type": "code",
      "source": [
        "df_app['Current Ver'].unique()"
      ],
      "metadata": {
        "id": "Sy-_oDHFzHNy"
      },
      "execution_count": null,
      "outputs": []
    },
    {
      "cell_type": "code",
      "source": [
        "df_app['Android Ver'].unique()"
      ],
      "metadata": {
        "id": "Lmbb_zxBza77"
      },
      "execution_count": null,
      "outputs": []
    },
    {
      "cell_type": "markdown",
      "source": [
        "## 3. ***Data Wrangling***"
      ],
      "metadata": {
        "id": "dauF4eBmngu3"
      }
    },
    {
      "cell_type": "markdown",
      "source": [
        "### Data Wrangling Code"
      ],
      "metadata": {
        "id": "bKJF3rekwFvQ"
      }
    },
    {
      "cell_type": "markdown",
      "source": [
        "#### 1. We have to clean our data first"
      ],
      "metadata": {
        "id": "VAODHpKMzm46"
      }
    },
    {
      "cell_type": "markdown",
      "source": [
        "**Removing Duplicates Values**"
      ],
      "metadata": {
        "id": "aIAfuhyEzxzo"
      }
    },
    {
      "cell_type": "code",
      "source": [
        "# Write your code to make your dataset analysis ready.\n",
        "df_app.drop_duplicates(inplace=True)"
      ],
      "metadata": {
        "id": "wk-9a2fpoLcV"
      },
      "execution_count": null,
      "outputs": []
    },
    {
      "cell_type": "code",
      "source": [
        "df_reviews.drop_duplicates(inplace=True)"
      ],
      "metadata": {
        "id": "GjRqjAsi0V16"
      },
      "execution_count": null,
      "outputs": []
    },
    {
      "cell_type": "markdown",
      "source": [
        "**Droping Null Values from both Data sets**"
      ],
      "metadata": {
        "id": "zNgsyRww0tnq"
      }
    },
    {
      "cell_type": "code",
      "source": [
        "df_app.dropna(axis=0,inplace=True)"
      ],
      "metadata": {
        "id": "vC7EV9jZ02He"
      },
      "execution_count": null,
      "outputs": []
    },
    {
      "cell_type": "code",
      "source": [
        "df_reviews.dropna(axis=0,inplace=True)"
      ],
      "metadata": {
        "id": "EGdF2HkO1J-C"
      },
      "execution_count": null,
      "outputs": []
    },
    {
      "cell_type": "markdown",
      "source": [
        "**checking info**"
      ],
      "metadata": {
        "id": "r1nZyDZt2uw4"
      }
    },
    {
      "cell_type": "code",
      "source": [
        "df_app.info()"
      ],
      "metadata": {
        "id": "g7toQ0wd2WHF"
      },
      "execution_count": null,
      "outputs": []
    },
    {
      "cell_type": "code",
      "source": [
        "df_reviews.info()"
      ],
      "metadata": {
        "id": "xHnjmsYV2WQE"
      },
      "execution_count": null,
      "outputs": []
    },
    {
      "cell_type": "code",
      "source": [
        "df_app.shape"
      ],
      "metadata": {
        "id": "CQrXtWRW2WVb"
      },
      "execution_count": null,
      "outputs": []
    },
    {
      "cell_type": "code",
      "source": [
        "df_reviews.shape"
      ],
      "metadata": {
        "id": "k5_-NqjJ2pRG"
      },
      "execution_count": null,
      "outputs": []
    },
    {
      "cell_type": "markdown",
      "source": [
        "#### Fixing Data types of columns and convert into appropiate form"
      ],
      "metadata": {
        "id": "6kwhEryQ21J8"
      }
    },
    {
      "cell_type": "markdown",
      "source": [
        "**1. Size column**"
      ],
      "metadata": {
        "id": "4qeWaa2B3Fkq"
      }
    },
    {
      "cell_type": "markdown",
      "source": [
        "Removing K,M and Nan values and converting string dtype to float"
      ],
      "metadata": {
        "id": "urcA0vlt4cbn"
      }
    },
    {
      "cell_type": "code",
      "source": [
        "# Removing M,k from entries\n",
        "def get_app_size(size):\n",
        "  try:\n",
        "\n",
        "    # Checking condition\n",
        "    if 'M' in size:\n",
        "      return float(size.replace('M',''))*1000\n",
        "    elif 'k' in size:\n",
        "      return float(size.replace('k',''))\n",
        "    else:\n",
        "      return 0\n",
        "\n",
        "\n",
        "  except:\n",
        "    return 0\n"
      ],
      "metadata": {
        "id": "ZyZid_3S3D62"
      },
      "execution_count": null,
      "outputs": []
    },
    {
      "cell_type": "code",
      "source": [
        "df_app['Size'] = df_app['Size'].apply(get_app_size)"
      ],
      "metadata": {
        "id": "44KFQwk34P7n"
      },
      "execution_count": null,
      "outputs": []
    },
    {
      "cell_type": "markdown",
      "source": [
        "**2. Removing + and , chars from Installs column. Also converting its  dtype**"
      ],
      "metadata": {
        "id": "wOhF0G7f4iXa"
      }
    },
    {
      "cell_type": "code",
      "source": [
        "df_app['Installs'] = df_app['Installs'].apply(lambda x : x.replace('+' , ''))\n",
        "df_app['Installs'] = df_app['Installs'].apply(lambda x : x.replace(',' , ''))"
      ],
      "metadata": {
        "id": "VQHDW1K24p2Z"
      },
      "execution_count": null,
      "outputs": []
    },
    {
      "cell_type": "markdown",
      "source": [
        "Converting Dtype to int"
      ],
      "metadata": {
        "id": "iI72PQJs89BU"
      }
    },
    {
      "cell_type": "code",
      "source": [
        "df_app['Installs'] = df_app['Installs'].astype(int)"
      ],
      "metadata": {
        "id": "lXKpswCT9Adk"
      },
      "execution_count": null,
      "outputs": []
    },
    {
      "cell_type": "markdown",
      "source": [
        "**3. Price Column --> removing $**"
      ],
      "metadata": {
        "id": "K9v-SfRL9nfI"
      }
    },
    {
      "cell_type": "code",
      "source": [
        "df_app['Price'] = df_app['Price'].apply(lambda x : x.replace('$',''))"
      ],
      "metadata": {
        "id": "r32Rc28z94bC"
      },
      "execution_count": null,
      "outputs": []
    },
    {
      "cell_type": "markdown",
      "source": [
        "Converting Dtype into float"
      ],
      "metadata": {
        "id": "Ct2nNpdy-M4i"
      }
    },
    {
      "cell_type": "code",
      "source": [
        "df_app[\"Price\"] = df_app[\"Price\"].astype(float)"
      ],
      "metadata": {
        "id": "59Ruq5pT-SNk"
      },
      "execution_count": null,
      "outputs": []
    },
    {
      "cell_type": "markdown",
      "source": [
        "**4.Reviews columns --> fixing Dtype**"
      ],
      "metadata": {
        "id": "xGZJDE65-bbU"
      }
    },
    {
      "cell_type": "code",
      "source": [
        "df_app['Reviews'] = df_app['Reviews'].astype(int)"
      ],
      "metadata": {
        "id": "sSnd65ci-s68"
      },
      "execution_count": null,
      "outputs": []
    },
    {
      "cell_type": "markdown",
      "source": [
        "**5.Last Updated column --> string to datetime**"
      ],
      "metadata": {
        "id": "sGxelqWAgedA"
      }
    },
    {
      "cell_type": "code",
      "source": [
        "# Pandas to_datetime() function applied to the values in the last updated column helps to convert string Date time into Python Date time object.\n",
        "df_app[\"Last Updated\"] = pd.to_datetime(df_app['Last Updated'])\n",
        "df_app.head()"
      ],
      "metadata": {
        "id": "Y0XDgDQQhIT-"
      },
      "execution_count": null,
      "outputs": []
    },
    {
      "cell_type": "markdown",
      "source": [
        "### What all manipulations have you done and insights you found?"
      ],
      "metadata": {
        "id": "MSa1f5Uengrz"
      }
    },
    {
      "cell_type": "markdown",
      "source": [
        "The manipulations done above are data wrangling techniques used to clean and prepare the data for further analysis. The following insights were found:\n",
        "\n",
        "1. Duplicates: The code removes duplicates from the app and reviews dataframes using the drop_duplicates() method. This ensures that the data is unique and no insights are skewed by duplicate entries.\n",
        "\n",
        "2. Null Values: The code removes any rows with missing values (null values) from the app and reviews dataframes using the dropna() method. This ensures that the data is complete and no insights are skewed by missing values.\n",
        "\n",
        "3. Data Types: The code manipulates the data types of several columns in the app dataframe to ensure that they are in the appropriate format for analysis. This includes:\n",
        "\n",
        "* Size: The code converts the size of the apps from strings to float values.\n",
        "\n",
        "* Installs: The code removes the '+' and ',' characters from the entries in the 'Installs' column and converts the data type to integer.\n",
        "\n",
        "* Price: The code removes the '$' character from the entries in the 'Price' column and converts the data type to float.\n",
        "\n",
        "* Reviews: The code converts the data type of the 'Reviews' column to integer.\n",
        "\n",
        "* Last Updated: Converts the \"Last Updated\" column from a string representation of a date and time to a pandas datetime object"
      ],
      "metadata": {
        "id": "LbyXE7I1olp8"
      }
    },
    {
      "cell_type": "markdown",
      "source": [
        "## ***4. Data Vizualization, Storytelling & Experimenting with charts : Understand the relationships between variables***"
      ],
      "metadata": {
        "id": "GF8Ens_Soomf"
      }
    },
    {
      "cell_type": "markdown",
      "source": [
        "# **Chart - 1- KDE Plot**"
      ],
      "metadata": {
        "id": "0wOQAZs5pc--"
      }
    },
    {
      "cell_type": "markdown",
      "source": [
        "**Graph for Rating distribution using Kde plot**"
      ],
      "metadata": {
        "id": "7fkgmzJEfx7D"
      }
    },
    {
      "cell_type": "code",
      "source": [
        "# Chart - 4 visualization code\n",
        "plt.figure(figsize=(20,10))\n",
        "sns.kdeplot(df_app['Rating'],color='blue')\n",
        "plt.xlabel(\"Rating\")\n",
        "plt.ylabel(\"Frequency\")\n",
        "plt.title('Rating Distribution',size=25)"
      ],
      "metadata": {
        "id": "irlUoxc8YrdO"
      },
      "execution_count": null,
      "outputs": []
    },
    {
      "cell_type": "markdown",
      "source": [
        "##### 1. Why did you pick the specific chart?"
      ],
      "metadata": {
        "id": "K5QZ13OEpz2H"
      }
    },
    {
      "cell_type": "markdown",
      "source": [
        "Beacuse we are only comparing Rating variable and kde plot use for univariate variable visualization"
      ],
      "metadata": {
        "id": "aJRCwT6DYrdO"
      }
    },
    {
      "cell_type": "markdown",
      "source": [
        "##### 2. What is/are the insight(s) found from the chart?"
      ],
      "metadata": {
        "id": "lQ7QKXXCp7Bj"
      }
    },
    {
      "cell_type": "markdown",
      "source": [
        "App ratings on the Google Play Store are predominantly in the higher range, with most ratings falling between 3-5. The majority of ratings are densely concentrated in the 4.2-4.7 range, indicating that users tend to give positive ratings to apps."
      ],
      "metadata": {
        "id": "Xx8WAJvtYrdO"
      }
    },
    {
      "cell_type": "markdown",
      "source": [
        "##### 3. Will the gained insights help creating a positive business impact?\n",
        "Are there any insights that lead to negative growth? Justify with specific reason."
      ],
      "metadata": {
        "id": "448CDAPjqfQr"
      }
    },
    {
      "cell_type": "markdown",
      "source": [
        "A low rating on the Google Play Store can hurt app downloads as potential users may choose alternative apps with better ratings. Maintaining a positive rating is crucial for app success."
      ],
      "metadata": {
        "id": "jLNxxz7MYrdP"
      }
    },
    {
      "cell_type": "markdown",
      "source": [
        "# **Chart - 2- Histrogram**"
      ],
      "metadata": {
        "id": "Oq99zqfJCmlO"
      }
    },
    {
      "cell_type": "code",
      "source": [
        "plt.figure(figsize=(20,10))\n",
        "plt.hist(df_app['Size'])\n",
        "plt.xlabel('Installs')\n",
        "plt.ylabel(\"Frequency\")\n",
        "plt.title('Size Distribution',size=25)"
      ],
      "metadata": {
        "id": "QyMllu7VB3uG"
      },
      "execution_count": null,
      "outputs": []
    },
    {
      "cell_type": "markdown",
      "source": [
        "##### 1. Why did you pick the specific chart?"
      ],
      "metadata": {
        "id": "R4VdelOFCQck"
      }
    },
    {
      "cell_type": "markdown",
      "source": [
        "Beacuse we are only comparing Size variable and kde plot use for histrogram  visualization"
      ],
      "metadata": {
        "id": "czTG7jP0CY-r"
      }
    },
    {
      "cell_type": "markdown",
      "source": [
        "##### 2. What is/are the insight(s) found from the chart?"
      ],
      "metadata": {
        "id": "ROEGWpBaCY-r"
      }
    },
    {
      "cell_type": "markdown",
      "source": [
        "The app size on the Google Play Store is skewed towards smaller sizes, with most apps falling in the range of 1KB to 20,000KB. This suggests that a majority of the apps are relatively small in size and do not take up a significant amount of storage on a user's mobile device."
      ],
      "metadata": {
        "id": "t7Z8WWAQCY-r"
      }
    },
    {
      "cell_type": "markdown",
      "source": [
        "##### 3. Will the gained insights help creating a positive business impact?\n",
        "Are there any insights that lead to negative growth? Justify with specific reason."
      ],
      "metadata": {
        "id": "Wl3BfCHsCY-s"
      }
    },
    {
      "cell_type": "markdown",
      "source": [
        "Having a smaller app size can positively impact an app's downloads, as it requires less storage space on the user's device. This can be particularly important for users with limited storage space or for those who prefer to minimize the amount of storage their apps consume. By having a smaller app size, developers can appeal to a wider audience and potentially increase their app's visibility and downloads."
      ],
      "metadata": {
        "id": "FW5ZG9HbCY-s"
      }
    },
    {
      "cell_type": "markdown",
      "source": [
        "# **Chart - 3- Bar Plot**\n"
      ],
      "metadata": {
        "id": "KSlN3yHqYklG"
      }
    },
    {
      "cell_type": "markdown",
      "source": [
        "**Most Downloaded Categories**"
      ],
      "metadata": {
        "id": "MmqRw6cMENwP"
      }
    },
    {
      "cell_type": "code",
      "source": [
        "# Chart - 2 visualization code\n",
        "category_installs = df_app.groupby('Category')['Installs'].sum().reset_index().sort_values(by='Installs', ascending=False)\n",
        "category_installs['Installs'] = category_installs['Installs'].astype(int)"
      ],
      "metadata": {
        "id": "R4YgtaqtYklH"
      },
      "execution_count": null,
      "outputs": []
    },
    {
      "cell_type": "code",
      "source": [
        "plt.figure(figsize=(20,10))\n",
        "chart = sns.barplot(data=category_installs, x='Category', y='Installs')\n",
        "plt.xlabel('Category Names',size=15)\n",
        "plt.ylabel('Number of Installs',size=15)\n",
        "plt.title('Top most downloaded Categories on Playstore',fontsize=25)\n",
        "chart.set_xticklabels(chart.get_xticklabels(),rotation=30, horizontalalignment='right')"
      ],
      "metadata": {
        "id": "uyVHYfokWNd-"
      },
      "execution_count": null,
      "outputs": []
    },
    {
      "cell_type": "markdown",
      "source": [
        "##### 1. Why did you pick the specific chart?"
      ],
      "metadata": {
        "id": "t6dVpIINYklI"
      }
    },
    {
      "cell_type": "markdown",
      "source": [
        "We have one categorical value and one numerical value in comparision in best case we should use bar chart. Also in categorical column we have multiple entries. So bar chart would be ideal for this visualization."
      ],
      "metadata": {
        "id": "5aaW0BYyYklI"
      }
    },
    {
      "cell_type": "markdown",
      "source": [
        "##### 2. What is/are the insight(s) found from the chart?"
      ],
      "metadata": {
        "id": "ijmpgYnKYklI"
      }
    },
    {
      "cell_type": "markdown",
      "source": [
        "Game, Communication, Social and Productivity have more numbers of downloads. In other hand Medical, Parenting, Beauty and Events have less numbers of downloads."
      ],
      "metadata": {
        "id": "PSx9atu2YklI"
      }
    },
    {
      "cell_type": "markdown",
      "source": [
        "##### 3. Will the gained insights help creating a positive business impact?\n",
        "Are there any insights that lead to negative growth? Justify with specific reason."
      ],
      "metadata": {
        "id": "-JiQyfWJYklI"
      }
    },
    {
      "cell_type": "markdown",
      "source": [
        "The insights from the chart can have a positive impact on a business by guiding it to choose app categories with high downloads, such as Games, Communication, Social, and Productivity. Choosing categories with low downloads like Medical, Parenting, Beauty, and Events may result in lower profits in the short-term. However, categories like Dating, Medical, and Comics may bring instant profits, but it's important to consider long-term growth as well. While categories like Games, Productivity, and Family may grow slower initially, they have the potential to bring in more money over time. Ultimately, the business should consider market trends and consumer demand when making decisions on app categories."
      ],
      "metadata": {
        "id": "BcBbebzrYklV"
      }
    },
    {
      "cell_type": "markdown",
      "source": [
        "# **Chart - 4 - Pie Chart**"
      ],
      "metadata": {
        "id": "EM7whBJCYoAo"
      }
    },
    {
      "cell_type": "markdown",
      "source": [
        "**Pie Chart for Type of Apps**"
      ],
      "metadata": {
        "id": "PjGY47IfEgKW"
      }
    },
    {
      "cell_type": "code",
      "source": [
        "# Chart - 3 visualization code\n",
        "plt.figure(figsize=(20,10))\n",
        "type_values = df_app.groupby('Type')['App'].count().values\n",
        "type_index = df_app.groupby('Type')['App'].count().index\n",
        "plt.pie(type_values, labels=type_index, autopct='%1.2f%%')\n",
        "plt.title('Pie chart for Type of apps',size=25)"
      ],
      "metadata": {
        "id": "t6GMdE67YoAp"
      },
      "execution_count": null,
      "outputs": []
    },
    {
      "cell_type": "markdown",
      "source": [
        "##### 1. Why did you pick the specific chart?"
      ],
      "metadata": {
        "id": "fge-S5ZAYoAp"
      }
    },
    {
      "cell_type": "markdown",
      "source": [
        "The pie chart is used to show the distribution of free and paid apps in the Google Play Store."
      ],
      "metadata": {
        "id": "5dBItgRVYoAp"
      }
    },
    {
      "cell_type": "markdown",
      "source": [
        "##### 2. What is/are the insight(s) found from the chart?"
      ],
      "metadata": {
        "id": "85gYPyotYoAp"
      }
    },
    {
      "cell_type": "markdown",
      "source": [
        "The insight gained is that there are more free apps available than paid apps"
      ],
      "metadata": {
        "id": "4jstXR6OYoAp"
      }
    },
    {
      "cell_type": "markdown",
      "source": [
        "##### 3. Will the gained insights help creating a positive business impact?\n",
        "Are there any insights that lead to negative growth? Justify with specific reason."
      ],
      "metadata": {
        "id": "RoGjAbkUYoAp"
      }
    },
    {
      "cell_type": "markdown",
      "source": [
        "To have a positive business impact, companies can offer some services for free to attract users and then charge for other premium features. This strategy can create user loyalty and increase revenue."
      ],
      "metadata": {
        "id": "zfJ8IqMcYoAp"
      }
    },
    {
      "cell_type": "markdown",
      "source": [
        "# **Chart - 5- Bar Plot**"
      ],
      "metadata": {
        "id": "4Of9eVA-YrdM"
      }
    },
    {
      "cell_type": "markdown",
      "source": [
        "**Top Categories on Playstore**"
      ],
      "metadata": {
        "id": "9NzvxImrE0Me"
      }
    },
    {
      "cell_type": "code",
      "source": [
        "# Chart - 1 visualization code\n",
        "x = df_app['Category'].value_counts().index\n",
        "y = df_app['Category'].value_counts()"
      ],
      "metadata": {
        "id": "7v_ESjsspbW7"
      },
      "execution_count": null,
      "outputs": []
    },
    {
      "cell_type": "code",
      "source": [
        "plt.figure(figsize=(20,10))\n",
        "chart = sns.barplot(x=x,y=y)\n",
        "plt.xlabel('Category Names',size=15)\n",
        "plt.ylabel('Number of Apps',size=15)\n",
        "plt.title('Top Categories on Playstore',fontsize=25)\n",
        "chart.set_xticklabels(chart.get_xticklabels(),rotation=30, horizontalalignment='right')"
      ],
      "metadata": {
        "id": "ChwijATlTm2-"
      },
      "execution_count": null,
      "outputs": []
    },
    {
      "cell_type": "markdown",
      "source": [
        "##### 1. Why did you pick the specific chart?"
      ],
      "metadata": {
        "id": "iky9q4vBYrdO"
      }
    },
    {
      "cell_type": "markdown",
      "source": [
        "We have one categorical value and one numerical value in comparision in best case we should use bar chart. Also in categorical column we have multiple entries. So bar chart would be ideal for this visualization."
      ],
      "metadata": {
        "id": "XESiWehPqBRc"
      }
    },
    {
      "cell_type": "markdown",
      "source": [
        "##### 2. What is/are the insight(s) found from the chart?"
      ],
      "metadata": {
        "id": "F6T5p64dYrdO"
      }
    },
    {
      "cell_type": "markdown",
      "source": [
        "\n",
        "\n",
        "*   Family have most number of apps in playstore. Follwing Games, Tools, Productivity, Finance .\n",
        "*   Events and Beauty have least number of apps.\n",
        "\n"
      ],
      "metadata": {
        "id": "C_j1G7yiqdRP"
      }
    },
    {
      "cell_type": "markdown",
      "source": [
        "##### 3. Will the gained insights help creating a positive business impact?\n",
        "Are there any insights that lead to negative growth? Justify with specific reason."
      ],
      "metadata": {
        "id": "y-Ehk30pYrdP"
      }
    },
    {
      "cell_type": "markdown",
      "source": [
        "According to graph companines should make applications in the categories like Family, Games, Tools, Productivity, Finance. It does not mean companies should not to try make other apps. If you have great idea about app it would definetily work!"
      ],
      "metadata": {
        "id": "3cspy4FjqxJW"
      }
    },
    {
      "cell_type": "markdown",
      "source": [
        "# **Chart - 6 -Joint Plot**"
      ],
      "metadata": {
        "id": "bamQiAODYuh1"
      }
    },
    {
      "cell_type": "markdown",
      "source": [
        "**Relation between Rating and Price**"
      ],
      "metadata": {
        "id": "OsPsdLjPFrZR"
      }
    },
    {
      "cell_type": "code",
      "source": [
        "# Chart - 5 visualization code\n",
        "sns.jointplot(data=df_app, x = 'Price', y = 'Rating')\n"
      ],
      "metadata": {
        "id": "TIJwrbroYuh3"
      },
      "execution_count": null,
      "outputs": []
    },
    {
      "cell_type": "markdown",
      "source": [
        "##### 1. Why did you pick the specific chart?"
      ],
      "metadata": {
        "id": "QHF8YVU7Yuh3"
      }
    },
    {
      "cell_type": "markdown",
      "source": [
        "Jointplot be used to quickly visualize and analyze the relationship between two variables and describe their individual distributions on the same plot"
      ],
      "metadata": {
        "id": "dcxuIMRPYuh3"
      }
    },
    {
      "cell_type": "markdown",
      "source": [
        "##### 2. What is/are the insight(s) found from the chart?"
      ],
      "metadata": {
        "id": "GwzvFGzlYuh3"
      }
    },
    {
      "cell_type": "markdown",
      "source": [
        "Apps which are low in price are more in numbers, also rating is also good for these apps."
      ],
      "metadata": {
        "id": "uyqkiB8YYuh3"
      }
    },
    {
      "cell_type": "markdown",
      "source": [
        "##### 3. Will the gained insights help creating a positive business impact?\n",
        "Are there any insights that lead to negative growth? Justify with specific reason."
      ],
      "metadata": {
        "id": "qYpmQ266Yuh3"
      }
    },
    {
      "cell_type": "markdown",
      "source": [
        "Some apps which are high in price are low in numbers but rated above 3.5 which means these apps related to FAMILY and HEALTH category and providing good services to users."
      ],
      "metadata": {
        "id": "_WtzZ_hCYuh4"
      }
    },
    {
      "cell_type": "markdown",
      "source": [
        "# **Chart 7**"
      ],
      "metadata": {
        "id": "_gDMGYM0V1wY"
      }
    },
    {
      "cell_type": "markdown",
      "source": [
        " **Correlation between Year of last Update and Rating.**"
      ],
      "metadata": {
        "id": "gnNAAC6OHacK"
      }
    },
    {
      "cell_type": "code",
      "source": [
        "plt.figure(figsize = (20,10))\n",
        "grouped = df_app.groupby(df_app[\"Last Updated\"].dt.year)[\"Rating\"].mean()\n",
        "plt.plot(grouped.index, grouped.values, \"o-g\")\n",
        "plt.title(\"Last year vs Average rating\", fontsize=25)\n",
        "plt.xlabel(\"Year of last update\", size=15)\n",
        "plt.ylabel(\"Average rating\", size=15)\n"
      ],
      "metadata": {
        "id": "dzc1lGefvT_e"
      },
      "execution_count": null,
      "outputs": []
    },
    {
      "cell_type": "markdown",
      "source": [
        "1. Why did you pick the specific chart?\n",
        "\n",
        "  By using a scatter plot, the code creates a visual representation of the data that can be used to identify patterns and trends in the data"
      ],
      "metadata": {
        "id": "MHnR9lg_ijf-"
      }
    },
    {
      "cell_type": "markdown",
      "source": [
        "2. What is/are the insight(s) found from the chart?\n",
        "\n",
        "   Average app rating is gradually increasing after 2016. That means apps that have regular updates have higher average ratings.\n"
      ],
      "metadata": {
        "id": "qovDPMs7WEIj"
      }
    },
    {
      "cell_type": "markdown",
      "source": [
        "3. Will the gained insights help creating a positive business impact?\n",
        "Are there any insights that lead to negative growth? Justify with specific reason.\n",
        "\n",
        " The graph is falling from 2010 to 2012. This may be due to bad user experience, people are started giving poor ratings due to non regular updates or many other reasons too.\n"
      ],
      "metadata": {
        "id": "PlKZ6UaojQXB"
      }
    },
    {
      "cell_type": "markdown",
      "source": [
        "# **Chart 8**"
      ],
      "metadata": {
        "id": "pdpu62yP_yq7"
      }
    },
    {
      "cell_type": "markdown",
      "source": [
        "**What are the count of Apps in different genres?**"
      ],
      "metadata": {
        "id": "PYsxVULAGFwI"
      }
    },
    {
      "cell_type": "code",
      "source": [
        "topAppsinGenres = df_app['Genres'].value_counts().head(40)"
      ],
      "metadata": {
        "id": "F-kMIBo3AClE"
      },
      "execution_count": null,
      "outputs": []
    },
    {
      "cell_type": "code",
      "source": [
        "x3sis = []\n",
        "y3sis = []\n",
        "\n",
        "for i in range(len(topAppsinGenres)):\n",
        "    x3sis.append(topAppsinGenres.index[i])\n",
        "    y3sis.append(topAppsinGenres[i])"
      ],
      "metadata": {
        "id": "QcQrnlOSAH40"
      },
      "execution_count": null,
      "outputs": []
    },
    {
      "cell_type": "code",
      "source": [
        "plt.figure(figsize = (20,10))\n",
        "plt.ylabel('Genres(App Count)')\n",
        "plt.xlabel('Genres')\n",
        "graph = sns.barplot(x=x3sis,y=y3sis,palette=\"deep\")\n",
        "graph.set_xticklabels(graph.get_xticklabels(), rotation=90, fontsize=12)\n",
        "graph.set_title(\"Top Genres in the Playstore\", fontsize = 20);"
      ],
      "metadata": {
        "id": "UchzTHUYAMUN"
      },
      "execution_count": null,
      "outputs": []
    },
    {
      "cell_type": "code",
      "source": [
        "top_genres = df_app['Genres'].value_counts().head(40)\n",
        "\n",
        "plt.figure(figsize = (20,10))\n",
        "plt.bar(top_genres.index, top_genres.values, color=\"y\")\n",
        "plt.xlabel('Genres', fontsize=12)\n",
        "plt.ylabel('App Count', fontsize=12)\n",
        "plt.xticks(rotation=90, fontsize=12)\n",
        "plt.title('Top Genres in the Playstore', fontsize=20)\n",
        "plt.show()\n"
      ],
      "metadata": {
        "id": "LAK7dxFyUIOn"
      },
      "execution_count": null,
      "outputs": []
    },
    {
      "cell_type": "markdown",
      "source": [
        "1.Why did you pick this?\n",
        "\n",
        "They are used to show the relationship between two or more sets of data. They are mostly used in business and finance."
      ],
      "metadata": {
        "id": "xaEMWwZuAUW0"
      }
    },
    {
      "cell_type": "markdown",
      "source": [
        "2.What is/are the insight(s) found from the chart?\n",
        "\n",
        "From the above visualization we can see that the Highest Number of Apps found in the Tools and Entertainment genres followed by Education, Productivity, Finance and many more.\n"
      ],
      "metadata": {
        "id": "IwongQocAy9o"
      }
    },
    {
      "cell_type": "markdown",
      "source": [
        "# **Chart 9**"
      ],
      "metadata": {
        "id": "K8oqHenJGk9F"
      }
    },
    {
      "cell_type": "markdown",
      "source": [
        " **What is the Relation between app category and app price?**\n",
        "\n",
        "   So now comes the hard part. How are companies and developers supposed to make end meet? What monetization strategies can companies use to maximize profit? The costs of apps are largely based on features, complexity, and platform. Lets plot a graph and see.\n",
        "\n",
        "Here we are selecting some most popular app category from the data set for our analysis i.e GAME, FAMILY, PHOTOGRAPHY, MEDICAL, TOOLS, FINANCE, LIFESTYLE , BUSINESS"
      ],
      "metadata": {
        "id": "rx-67N2itKBM"
      }
    },
    {
      "cell_type": "code",
      "source": [
        "graph, plot = plt.subplots()\n",
        "graph.set_size_inches(20,10)\n",
        "popular_app= df_app[df_app.Category.isin(['GAME', 'FAMILY', 'PHOTOGRAPHY','MEDICAL', 'TOOLS', 'FINANCE','LIFESTYLE','BUSINESS'])]\n",
        "plot = sns.stripplot(x = popular_app['Price'], y = popular_app['Category'], jitter=True, linewidth=1)\n",
        "plot.set_title('App pricing trend across categories',size=25)\n"
      ],
      "metadata": {
        "id": "wIYV788kS15o"
      },
      "execution_count": null,
      "outputs": []
    },
    {
      "cell_type": "markdown",
      "source": [
        "1. Why did you pick the specific chart?\n",
        "\n",
        "    Strip plot use to visualise the distribution of many individual one-dimensional values.\n",
        "It is a good complement to a boxplot or violinplot in cases where all observations are shown along with some representation of the underlying distribution\n",
        "\n",
        "2. What is/are the insight(s) found from the chart?\n",
        "\n",
        "   Here we can see that Different categories apps demand different price ranges. Some apps that are simple and easy are free, where as apps in category FAMILY LIFESTYLE FINANCE and MEDICAL are high in price.\n",
        "\n",
        "3. Will the gained insights help creating a positive business impact? Are there any insights that lead to negative growth? Justify with specific reason.\n",
        "\n",
        "  All Game apps are comparetively low in price, may be thats the reason game apps have more number of downloads, as we have seen earlier."
      ],
      "metadata": {
        "id": "IhL4b-I3lE6i"
      }
    },
    {
      "cell_type": "markdown",
      "source": [
        "# **Chart 10**"
      ],
      "metadata": {
        "id": "g7iWiLgPWx7V"
      }
    },
    {
      "cell_type": "markdown",
      "source": [
        " **Content rating vs no of apps**"
      ],
      "metadata": {
        "id": "9kc5wzQdGx58"
      }
    },
    {
      "cell_type": "code",
      "source": [
        "plt.figure(figsize = (20,10))\n",
        "index = df_app['Content Rating'].value_counts().index\n",
        "values = df_app['Content Rating'].value_counts().values\n",
        "sns.barplot(x=index,y=values)\n",
        "plt.title('Content rating',fontsize=25)\n",
        "plt.xlabel('Rating',size=15)\n",
        "plt.ylabel('Apps Count',size=15)"
      ],
      "metadata": {
        "id": "hBgqMV8M_na7"
      },
      "execution_count": null,
      "outputs": []
    },
    {
      "cell_type": "markdown",
      "source": [
        "1.Why did you pick the specific chart?\n",
        "\n",
        " The bar plot is a good choice for this type of data because it allows for easy comparison of the frequency of each category.\n",
        "\n"
      ],
      "metadata": {
        "id": "Gk8zq3mUuBBU"
      }
    },
    {
      "cell_type": "markdown",
      "source": [
        "2.What is/are the insight(s) found from the chart?\n",
        "\n",
        "Mostly 90% of total apps are targetting audience in every age group and hence open for everyone.\n",
        "Very few(less then 500 apps) are catering to only adult population i.e Mature 17+"
      ],
      "metadata": {
        "id": "oqe6IKelugWU"
      }
    },
    {
      "cell_type": "markdown",
      "source": [
        "3.Will the gained insights help creating a positive business impact? Are there any insights that lead to negative growth? Justify with specific reason.\n",
        "\n",
        "Yes.Large majority of apps are targeted towards all age groups, a business could decide to focus on creating apps that are family-friendly and appealing to a wide range of users."
      ],
      "metadata": {
        "id": "k2t5-QBxu2d7"
      }
    },
    {
      "cell_type": "markdown",
      "source": [
        "# **Chart 11**"
      ],
      "metadata": {
        "id": "DO7DuN3XXSsz"
      }
    },
    {
      "cell_type": "markdown",
      "source": [
        "**How Installs and Rating are correlated?**"
      ],
      "metadata": {
        "id": "J1Y1gid0HRNu"
      }
    },
    {
      "cell_type": "code",
      "source": [
        "df_rats=df_app.groupby('Rating').sum().reset_index()\n",
        "plt.figure(figsize = (20,10))\n",
        "plt.plot(df_rats['Rating'],df_rats['Installs'])\n",
        "plt.xlabel('Rating',size=15)\n",
        "plt.ylabel('Installs (e+10)',size=15)\n",
        "plt.title('Installs per Rating',size=25 )\n",
        "plt.show()\n"
      ],
      "metadata": {
        "id": "tKRe9YN2hmS5"
      },
      "execution_count": null,
      "outputs": []
    },
    {
      "cell_type": "markdown",
      "source": [
        "1.Why did you pick the specific chart?\n",
        "\n",
        " It gives the perfect information of how rating and installs are correlated\n",
        "\n"
      ],
      "metadata": {
        "id": "LONzvaYrvrkl"
      }
    },
    {
      "cell_type": "markdown",
      "source": [
        "2.What is/are the insight(s) found from the chart?\n",
        "\n",
        "  Here, we can observe that higher the rating, more the no of installs. But this correlation sightly changes after 4.5 ratings. The probable reason could be bad user experience."
      ],
      "metadata": {
        "id": "NLe1cHKVwxCy"
      }
    },
    {
      "cell_type": "markdown",
      "source": [
        "3.Will the gained insights help creating a positive business impact? Are there any insights that lead to negative growth? Justify with specific reason.\n",
        "\n",
        "No because the ratings are slightly dipped.The reason is increase in price! But as soon as the prices are decreased, the ratings are again up."
      ],
      "metadata": {
        "id": "q0Nfd3mwxBW1"
      }
    },
    {
      "cell_type": "markdown",
      "source": [
        "# **Chart 12**"
      ],
      "metadata": {
        "id": "fiDrQ25RXzgk"
      }
    },
    {
      "cell_type": "markdown",
      "source": [
        "**Let us try to understand and co-relate rating, reviews and price columns together.**"
      ],
      "metadata": {
        "id": "Ola3sapPHgre"
      }
    },
    {
      "cell_type": "code",
      "source": [
        "f,(ax1,ax2,ax3) = plt.subplots(ncols=3,sharey=False)\n",
        "sns.boxplot(x='Rating',data=df_app,ax=ax1)\n",
        "sns.boxplot(x='Reviews',data=df_app,ax=ax2)\n",
        "sns.boxplot(x='Price',data=df_app,ax=ax3)\n",
        "f.set_size_inches(20, 8)"
      ],
      "metadata": {
        "id": "z4Wt2TDUUfrT"
      },
      "execution_count": null,
      "outputs": []
    },
    {
      "cell_type": "markdown",
      "source": [
        "1.Why did you pick the specific chart?\n",
        "\n",
        "\n",
        "   Box plots divide the data into sections that each contain approximately 25% of the data in that set. Box plots are useful as they provide a visual summary of the data enabling researchers to quickly identify mean values, the dispersion of the data set, and signs of skewness."
      ],
      "metadata": {
        "id": "j0uzu2ByxajN"
      }
    },
    {
      "cell_type": "markdown",
      "source": [
        "2.What is/are the insight(s) found from the chart?\n",
        "\n",
        "  We can see that most of the Ratings are between 4 and around 4.5 and 5."
      ],
      "metadata": {
        "id": "nM7uWMYqxuUx"
      }
    },
    {
      "cell_type": "markdown",
      "source": [
        "3.Will the gained insights help creating a positive business impact? Are there any insights that lead to negative growth? Justify with specific reason.\n",
        "\n",
        "\n",
        "  As far as Reviews are concerned, for most of the Apps Reviews are not given.\n",
        "Also for Price, most of the Apps are Free.\n"
      ],
      "metadata": {
        "id": "qRgyUvJux4Sa"
      }
    },
    {
      "cell_type": "markdown",
      "source": [
        "# **Chart 13**"
      ],
      "metadata": {
        "id": "B-hF5xjgYF43"
      }
    },
    {
      "cell_type": "markdown",
      "source": [
        "**Let's merge two data sets to determine the correlation between each other.**\n"
      ],
      "metadata": {
        "id": "6am9333xJST0"
      }
    },
    {
      "cell_type": "code",
      "source": [
        "df_merge= pd.merge(df_app, df_reviews, on=\"App\", how=\"inner\")\n",
        "df_merge.shape\n"
      ],
      "metadata": {
        "id": "lPe_T7P55Iap"
      },
      "execution_count": null,
      "outputs": []
    },
    {
      "cell_type": "code",
      "source": [
        "df_merge.corr()"
      ],
      "metadata": {
        "id": "b0bX-oSX5aq2"
      },
      "execution_count": null,
      "outputs": []
    },
    {
      "cell_type": "markdown",
      "source": [
        "# **Pie Plot- Comparison between sentiment factors.**"
      ],
      "metadata": {
        "id": "3l6dxtaq9MWV"
      }
    },
    {
      "cell_type": "code",
      "source": [
        "df_reviews['Sentiment'].value_counts()"
      ],
      "metadata": {
        "id": "xUl2_QvW5gEg"
      },
      "execution_count": null,
      "outputs": []
    },
    {
      "cell_type": "code",
      "source": [
        "plt.figure(figsize=(8, 8))\n",
        "plt.pie(df_reviews['Sentiment'].value_counts(), labels = df_reviews['Sentiment'].unique(),autopct='%1.1f%%',)\n",
        "plt.show()\n"
      ],
      "metadata": {
        "id": "sb03TvNB5peX"
      },
      "execution_count": null,
      "outputs": []
    },
    {
      "cell_type": "markdown",
      "source": [
        "1. Why did you pick the specific chart?"
      ],
      "metadata": {
        "id": "z7tuF5nD6d7I"
      }
    },
    {
      "cell_type": "markdown",
      "source": [
        " because it is a simple and effective way to show the proportion of each sentiment category in the data set"
      ],
      "metadata": {
        "id": "n5sfoY1q6Ty5"
      }
    },
    {
      "cell_type": "markdown",
      "source": [
        "2. What is/are the insight(s) found from the chart?"
      ],
      "metadata": {
        "id": "OSKPTSsY853f"
      }
    },
    {
      "cell_type": "markdown",
      "source": [
        "The chart shows that the majority of sentiments are Positive, while the Negative and Neutral sentiments account for a smaller proportion."
      ],
      "metadata": {
        "id": "e6NLl2dX87nh"
      }
    },
    {
      "cell_type": "markdown",
      "source": [
        "# **Chart 14**"
      ],
      "metadata": {
        "id": "_1iP0TJuYXKN"
      }
    },
    {
      "cell_type": "markdown",
      "source": [
        "# **Correlation between Sentiment_Polarity and Sentiment_Subjectivity.**\n"
      ],
      "metadata": {
        "id": "nAciwxVlEWGn"
      }
    },
    {
      "cell_type": "code",
      "source": [
        "\n",
        "plt.figure(figsize=(20, 10))\n",
        "\n",
        "sns.scatterplot(\n",
        "    x=df_reviews['Sentiment_Subjectivity'],\n",
        "    y=df_reviews['Sentiment_Polarity'],\n",
        "    hue=df_reviews['Sentiment'],\n",
        "    palette=\"BuGn\"\n",
        ")\n",
        "\n",
        "plt.title(\"Google Play Store Reviews Sentiment Analysis\", fontsize=25)\n",
        "plt.xlabel(\"Sentiment Subjectivity\")\n",
        "plt.ylabel(\"Sentiment Polarity\")\n",
        "\n",
        "plt.show()\n"
      ],
      "metadata": {
        "id": "FG2Ge24AjAJO"
      },
      "execution_count": null,
      "outputs": []
    },
    {
      "cell_type": "markdown",
      "source": [
        "1.Why did you pick the specific chart?\n",
        "\n"
      ],
      "metadata": {
        "id": "dEElKHPo0d1V"
      }
    },
    {
      "cell_type": "markdown",
      "source": [
        "Scatter plots are useful when you want to understand the relationship between two numerical variables."
      ],
      "metadata": {
        "id": "A31MbJvXAQMY"
      }
    },
    {
      "cell_type": "markdown",
      "source": [
        "##### 2. What is/are the insight(s) found from the chart?\n",
        "\n",
        "   The concentration of points in the range of 0.5 to 0.8 for sentiment subjectivity suggests that most of the reviews are expressing opinions and experiences rather than factual information."
      ],
      "metadata": {
        "id": "Ii2niyCjBKPG"
      }
    },
    {
      "cell_type": "markdown",
      "source": [
        "# **Chart - 15**"
      ],
      "metadata": {
        "id": "NC_X3p0fY2L0"
      }
    },
    {
      "cell_type": "markdown",
      "source": [
        "# **Correlation Heatmap on merged dataframe**"
      ],
      "metadata": {
        "id": "HaV_Jgv5Bvoh"
      }
    },
    {
      "cell_type": "code",
      "source": [
        "plt.figure(figsize = (20,10))\n",
        "sns.heatmap(df_merge.corr(),annot= True,cmap=sns.color_palette('Pastel1'),square=True)\n",
        "plt.title('Correlation Heatmap for Playstore data and User review data', size=25)"
      ],
      "metadata": {
        "id": "XvRFBBg36vb1"
      },
      "execution_count": null,
      "outputs": []
    },
    {
      "cell_type": "markdown",
      "source": [
        "##### 1. Why did you pick the specific chart?\n",
        "\n",
        "   Correlation heatmaps can be used to find potential relationships between variables and to understand the strength of these relationships"
      ],
      "metadata": {
        "id": "UV0SzAkaZNRQ"
      }
    },
    {
      "cell_type": "markdown",
      "source": [
        "##### 2. What is/are the insight(s) found from the chart?\n",
        "\n",
        "1. Size and sentiment polarity are negatively correlated(-0.19). There may be a reason when the size of an app increases people start disliking the app because it consumes more storage, takes more RAM and needs a high speed connection for its execution.\n",
        "2. There is a positive correlation between reviews and number of installs(0.56) because as the reviews increase, people start noticing the app and install them.\n",
        "3. There is slightly positive correlation(0.24) between sentiment polarity and sentiment subjectivity that means if users share the positive reviews (sentiment polarity) then there is much chances that users are sharing their personal opinion and not a factual information(Sentiment Subjectivity)"
      ],
      "metadata": {
        "id": "YPEH6qLeZNRQ"
      }
    },
    {
      "cell_type": "markdown",
      "source": [
        "# **Chart - 16 - Pair Plot**"
      ],
      "metadata": {
        "id": "q29F0dvdveiT"
      }
    },
    {
      "cell_type": "code",
      "source": [
        "# Pair Plot visualization code\n",
        "sns.pairplot(df_app)"
      ],
      "metadata": {
        "id": "o58-TEIhveiU"
      },
      "execution_count": null,
      "outputs": []
    },
    {
      "cell_type": "markdown",
      "source": [
        "##### 1. Why did you pick the specific chart?"
      ],
      "metadata": {
        "id": "EXh0U9oCveiU"
      }
    },
    {
      "cell_type": "markdown",
      "source": [
        "The Seaborn Pairplot allows us to plot pairwise relationships between variables within a dataset."
      ],
      "metadata": {
        "id": "eMmPjTByveiU"
      }
    },
    {
      "cell_type": "markdown",
      "source": [
        "##### 2. What is/are the insight(s) found from the chart?\n",
        "\n",
        "  It creates a nice visualization and helps us to understand the data by summarising a large amount of data in a single figure."
      ],
      "metadata": {
        "id": "22aHeOlLveiV"
      }
    },
    {
      "cell_type": "markdown",
      "source": [
        "## **5. Solution to Business Objective**"
      ],
      "metadata": {
        "id": "JcMwzZxoAimU"
      }
    },
    {
      "cell_type": "markdown",
      "source": [
        "\n",
        "1. Target the Art and Design or Family and Lifestyle categories for app development, as these categories have a high number of installs.\n",
        "2. Offer a free version of the app to increase the number of installs, as 92% of the apps on the play store are free.\n",
        "3. Develop apps that are light-weighted and suitable for all ages, as the majority of apps on the play store are of Everyone content rating and have a positive sentiment.\n",
        "4. Focus on the Game, Tools, Entertainment, Education, Business, and Medical genres, as these categories have a high number of installs and positive sentiments.\n",
        "5. Regularly update the app and keep it optimally sized to maintain a high rating, as there is a positive correlation between installs and rating.\n",
        "6. Consider offering a paid version of the app, but ensure that it is of a reasonable size, as paid apps that are higher in size may not perform well in the market.\n",
        "7. Encourage users to review the app, as a high number of reviews can increase the number of installs. However, be prepared for harsher reviews for paid apps.\n",
        "\n"
      ],
      "metadata": {
        "id": "8G2x9gOozGDZ"
      }
    },
    {
      "cell_type": "markdown",
      "source": [
        "# **Conclusion**"
      ],
      "metadata": {
        "id": "gCX9965dhzqZ"
      }
    },
    {
      "cell_type": "markdown",
      "source": [
        "\n",
        "1. The app rating is significant and positively correlated with the number of installs. Additionally, a negative correlation exists between app price and rating.\n",
        "\n",
        "2. Larger-sized paid apps may not perform well in the market. Users tend to prefer lightweight paid apps.\n",
        "\n",
        "\n",
        "3. \"Art and Design,\" \"Family,\" and \"Lifestyle\" categories are leading in terms of potential for installs and revenue.\n",
        "\n",
        "\n",
        "4. The majority of apps (92.12%) are free, while 7.81% are paid.\n",
        "\n",
        "\n",
        "5. The \"Game\" category has the highest number of installs and is a potential market for developers.\n",
        "\n",
        "\n",
        "6. Offering a free app with a content rating suitable for everyone is a viable strategy.\n",
        "\n",
        "\n",
        "7. Regular updates and an optimal app size are key factors for achieving a high rating.\n",
        "\n",
        "8. The \"Family,\" \"Game,\" and \"Tools\" categories have the maximum number of apps.\n",
        "\n",
        "\n",
        "9. The focus of the conclusion does not directly address this question.\n",
        "\n",
        "10. Offering a free app with a content rating suitable for everyone is a viable strategy.\n",
        "\n",
        "\n",
        "11. A positive correlation exists between app ratings and the number of installs.\n",
        "\n",
        "\n",
        "12. The conclusion highlights a negative correlation between app price and rating, and a positive correlation between installs and rating.\n",
        "\n",
        "\n",
        "13. Positive sentiments dominate, with 61% of users expressing positive feelings.\n",
        "\n",
        "\n",
        "\n",
        "\n",
        "14. Paid apps tend to receive more critical reviews compared to free apps, indicating a difference in sentiment polarity."
      ],
      "metadata": {
        "id": "awhsCy41i2Gp"
      }
    },
    {
      "cell_type": "markdown",
      "source": [
        "###   ***! THANK YOU !!!***\n",
        "\n",
        "\n",
        "\n"
      ],
      "metadata": {
        "id": "gIfDvo9L0UH2"
      }
    }
  ]
}